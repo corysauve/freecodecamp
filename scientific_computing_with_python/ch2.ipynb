{
 "cells": [
  {
   "cell_type": "markdown",
   "metadata": {},
   "source": [
    "## Scientific Computing with Python Notes \n",
    "### Chapter 2: Variables, Expressions, and Statements"
   ]
  },
  {
   "cell_type": "markdown",
   "metadata": {},
   "source": [
    "### Constants \n",
    "\n",
    "- Fixed values (constants)\n",
    "    - Value does not change (e.g., numbers, letters, and strings)\n",
    "    - String constants use single of double quotes \n",
    "\n",
    "- Reserved words \n",
    "    - You cannot use reserved words as variables names/identifiers \n",
    "    - e.g., `For`, `IF`\n",
    "\n",
    "- Variables \n",
    "    - Variable is a named place in the memory where a programmer can store data \n",
    "    and later retrieve the data using the variable name \n",
    "    - Can change the contents of a variable in a later statement \n",
    "\n",
    "- Variable name rules \n",
    "    - Must start with a letter or underscore \n",
    "    - Must consist of letters, numbers, and underscores \n",
    "    - Case sensitive \n",
    "\n",
    "- Assignment statements \n",
    "    - Used to assign a value to a variable (`=`)"
   ]
  },
  {
   "cell_type": "markdown",
   "metadata": {},
   "source": [
    "### Intermediate Expressions \n",
    "\n",
    "- Numeric expressions \n",
    "    - Addition = `+`\n",
    "    - Subtraction = `-`\n",
    "    - Multiplication = `*`\n",
    "    - Division = `/`\n",
    "    - Power = `**`\n",
    "    - Remainder = `%`\n",
    "\n",
    "- Order of evaluation \n",
    "    - Called operator precedence \n",
    "    - Order \n",
    "        - Parentheses are always respected \n",
    "        - Exponentiation \n",
    "        - Multiplication, division, and remainder \n",
    "        - Addition and subtraction \n",
    "        - Left to right \n",
    "\n",
    "- Types \n",
    "    - Variables, literals, and constants have a type \n",
    "\n",
    "- Types of numbers \n",
    "    - Integers = whole numbers \n",
    "    - Floating point numbers = have decimal parts \n",
    "\n",
    "- Type conversions \n",
    "    - Convert types w/\n",
    "        - `int()`\n",
    "        - `float()`"
   ]
  },
  {
   "cell_type": "code",
   "execution_count": null,
   "metadata": {},
   "outputs": [],
   "source": [
    "print(float(99) + 100)"
   ]
  },
  {
   "cell_type": "markdown",
   "metadata": {},
   "source": [
    "- Integer division \n",
    "    - Integer division always produces a floating point result "
   ]
  },
  {
   "cell_type": "code",
   "execution_count": null,
   "metadata": {},
   "outputs": [],
   "source": [
    "print(10 / 2)"
   ]
  },
  {
   "cell_type": "markdown",
   "metadata": {},
   "source": [
    "- String conversions \n",
    "    - You can use `int()` and `float()` to convert between strings and integers \n",
    "    - An error will occur if the string does not contain numeric characters "
   ]
  },
  {
   "cell_type": "code",
   "execution_count": null,
   "metadata": {},
   "outputs": [],
   "source": [
    "sval = '123'\n",
    "ival = int(sval)\n",
    "type(ival)\n",
    "print(ival + 1)"
   ]
  },
  {
   "cell_type": "markdown",
   "metadata": {},
   "source": [
    "- User input \n",
    "    - Can instruct Python to pause and read data from the user using the `input()` function \n",
    "        - `input()` function returns a string "
   ]
  },
  {
   "cell_type": "code",
   "execution_count": null,
   "metadata": {},
   "outputs": [],
   "source": [
    "nam = input('Who are you? ')\n",
    "print('Welcome', nam)"
   ]
  },
  {
   "cell_type": "markdown",
   "metadata": {},
   "source": [
    "- Converting user input \n",
    "    - If we want to read a number from the user, we must convert it from a string to \n",
    "    a number using a type conversion function \n",
    "    - Elevator floor conversion "
   ]
  },
  {
   "cell_type": "code",
   "execution_count": null,
   "metadata": {},
   "outputs": [],
   "source": [
    "inp = input('Europe floor?')\n",
    "usf = int(inp) + 1\n",
    "print('US floor', usf)"
   ]
  },
  {
   "cell_type": "markdown",
   "metadata": {},
   "source": [
    "- Comments in python \n",
    "    - Another with a `#` is ignored by Python "
   ]
  },
  {
   "cell_type": "markdown",
   "metadata": {},
   "source": [
    "### Conditional Execution"
   ]
  },
  {
   "cell_type": "markdown",
   "metadata": {},
   "source": [
    "- `IF` statement "
   ]
  },
  {
   "cell_type": "code",
   "execution_count": null,
   "metadata": {},
   "outputs": [],
   "source": [
    "x = 5 \n",
    "if x < 10:\n",
    "    print('Smaller')\n",
    "if x > 20:\n",
    "    print('Bigger')\n",
    "print('Finis')"
   ]
  },
  {
   "cell_type": "markdown",
   "metadata": {},
   "source": [
    "- Comparison operators \n",
    "    - Boolean expressions: asks a question and produce a Yes or No result which we use to control program flow \n",
    "        - Evaluate to True/False or Yes/No\n",
    "    - Comparison operators looks at variables but do not change the variable "
   ]
  },
  {
   "cell_type": "code",
   "execution_count": null,
   "metadata": {},
   "outputs": [],
   "source": [
    "x = 5 \n",
    "if x == 5 : \n",
    "    print('Equals 5')\n",
    "if x > 4 : \n",
    "    print('Greater than 4')\n",
    "if x >= 5 :\n",
    "    print('Greater than or Equals 5')\n",
    "if x < 6 : \n",
    "    print('Less than or Equals 5')\n",
    "if x != 6 : \n",
    "    print('Not equal to 6')"
   ]
  },
  {
   "cell_type": "code",
   "execution_count": null,
   "metadata": {},
   "outputs": [],
   "source": [
    "# One way decisions \n",
    "\n",
    "x = 5\n",
    "print('Before')\n",
    "if x == 5 :\n",
    "    print('Is 5') \n",
    "    print('Is Still 5')\n",
    "    print('Third 5')\n",
    "print('Afterwards 5')\n",
    "print('Before 6')\n",
    "if x == 6 : \n",
    "    print('Is 6') \n",
    "    print('Is still 6') \n",
    "    print('Third 6')\n",
    "print('Afterwards 6')"
   ]
  },
  {
   "cell_type": "markdown",
   "metadata": {},
   "source": [
    "### Indentation \n",
    "\n",
    "- Increase indent after an if statement or for statement \n",
    "- Maintain indent to indicate the scope of the block \n",
    "- Reduce indent back to the level of the if statement or for statement to indicate the end of the block \n",
    "- Blank lines are ignored - do not affect indentation \n",
    "- Comments on a line by themselves are ignored with regard to indentation "
   ]
  },
  {
   "cell_type": "code",
   "execution_count": 23,
   "metadata": {},
   "outputs": [
    {
     "name": "stdout",
     "output_type": "stream",
     "text": [
      "More than one\n",
      "Less than 100\n",
      "All done\n"
     ]
    }
   ],
   "source": [
    "# Nested decisions \n",
    "\n",
    "x = 42 \n",
    "\n",
    "if x > 1 : \n",
    "    print('More than one')\n",
    "    if x < 100 :\n",
    "        print('Less than 100')\n",
    "\n",
    "print('All done')"
   ]
  },
  {
   "cell_type": "code",
   "execution_count": 25,
   "metadata": {},
   "outputs": [
    {
     "name": "stdout",
     "output_type": "stream",
     "text": [
      "Bigger\n",
      "All done\n"
     ]
    }
   ],
   "source": [
    "# Two-way decisions \n",
    "\n",
    "x = 4 \n",
    "\n",
    "if x > 2: \n",
    "    print('Bigger')\n",
    "else:\n",
    "    print('Smaller')\n",
    "    \n",
    "print('All done')"
   ]
  },
  {
   "cell_type": "markdown",
   "metadata": {},
   "source": [
    "### More Conditional Structures "
   ]
  },
  {
   "cell_type": "code",
   "execution_count": 26,
   "metadata": {},
   "outputs": [
    {
     "name": "stdout",
     "output_type": "stream",
     "text": [
      "Medium\n",
      "All done\n"
     ]
    }
   ],
   "source": [
    "# Multi-way \n",
    "\n",
    "x = 3\n",
    "\n",
    "if x < 2:\n",
    "    print('small')\n",
    "elif x < 10:\n",
    "    print('Medium')\n",
    "else:\n",
    "    print('LARGE')\n",
    "    \n",
    "print('All done')"
   ]
  }
 ],
 "metadata": {
  "kernelspec": {
   "display_name": "Python 3.8.6 64-bit",
   "language": "python",
   "name": "python3"
  },
  "language_info": {
   "codemirror_mode": {
    "name": "ipython",
    "version": 3
   },
   "file_extension": ".py",
   "mimetype": "text/x-python",
   "name": "python",
   "nbconvert_exporter": "python",
   "pygments_lexer": "ipython3",
   "version": "3.8.6"
  },
  "orig_nbformat": 4,
  "vscode": {
   "interpreter": {
    "hash": "94073110656e57ca3be9201d58e60bbcc01ad6d78f987264a681dce8d922cf21"
   }
  }
 },
 "nbformat": 4,
 "nbformat_minor": 2
}
