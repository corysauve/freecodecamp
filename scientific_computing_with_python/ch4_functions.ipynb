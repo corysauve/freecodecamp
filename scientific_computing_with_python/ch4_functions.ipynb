{
 "cells": [
  {
   "cell_type": "markdown",
   "metadata": {},
   "source": [
    "## Scientific Computing with Python\n",
    "### Python Functions"
   ]
  },
  {
   "cell_type": "markdown",
   "metadata": {},
   "source": [
    "- `def` = Function definition "
   ]
  },
  {
   "cell_type": "code",
   "execution_count": 1,
   "metadata": {},
   "outputs": [
    {
     "name": "stdout",
     "output_type": "stream",
     "text": [
      "Hello\n",
      "Fun\n",
      "Zip\n",
      "Hello\n",
      "Fun\n"
     ]
    }
   ],
   "source": [
    "# Basic structure \n",
    "def thing():\n",
    "    print('Hello')\n",
    "    print('Fun')\n",
    "\n",
    "thing()\n",
    "print('Zip')\n",
    "thing()"
   ]
  },
  {
   "cell_type": "code",
   "execution_count": 8,
   "metadata": {},
   "outputs": [
    {
     "name": "stdout",
     "output_type": "stream",
     "text": [
      "Hello\n",
      "Yo\n",
      "I'm a lumberjack, and I'm okay.\n",
      "I sleep all night and I work all day.\n",
      "7\n"
     ]
    }
   ],
   "source": [
    "# Invoke/call a function \n",
    "\n",
    "x = 5 \n",
    "print('Hello')\n",
    "\n",
    "def print_lyrics():\n",
    "    print(\"I'm a lumberjack, and I'm okay.\")\n",
    "    print(\"I sleep all night and I work all day.\")\n",
    "\n",
    "print('Yo')\n",
    "print_lyrics()\n",
    "x = x + 2 \n",
    "print(7)"
   ]
  },
  {
   "cell_type": "markdown",
   "metadata": {},
   "source": [
    "### Arguments \n",
    "\n",
    "- argument - value we pass into the function as its input when we call the function \n",
    "- use arguments so we can direct the function to do different kinds of work when we call it at different times \n",
    "- put arguments in parentheses after the name of the function \n",
    "\n",
    "### Parameters \n",
    "\n",
    "- parameter is a variable which we use in the function definition\n",
    "    - it is a \"handle\" that allows the code in the function to access the arguments for a particular function invocation \n",
    "\n",
    "### Return values \n",
    "\n",
    "- returns a value to be used as the value of the function call in the calling expression. The `return` keyword is used for this\n",
    "\n",
    "    ```p\n",
    "    def greet():\n",
    "        return(\"Hello\")\n",
    "    ```\n",
    "\n",
    "- A fruitful function is one that produces a result (or return value)\n",
    "- return statement ends the function execution and \"sends back\" the result of the function"
   ]
  },
  {
   "cell_type": "code",
   "execution_count": 7,
   "metadata": {},
   "outputs": [
    {
     "name": "stdout",
     "output_type": "stream",
     "text": [
      "ABC\n",
      "Zap\n",
      "ABC\n"
     ]
    }
   ],
   "source": [
    "# Exercise \n",
    "# What will the following Python program print out?\n",
    "def fred():\n",
    "    print('Zap')\n",
    "def jane():\n",
    "    print('ABC')\n",
    "\n",
    "jane()\n",
    "fred()\n",
    "jane()"
   ]
  }
 ],
 "metadata": {
  "kernelspec": {
   "display_name": "Python 3.8.9 64-bit",
   "language": "python",
   "name": "python3"
  },
  "language_info": {
   "codemirror_mode": {
    "name": "ipython",
    "version": 3
   },
   "file_extension": ".py",
   "mimetype": "text/x-python",
   "name": "python",
   "nbconvert_exporter": "python",
   "pygments_lexer": "ipython3",
   "version": "3.8.9"
  },
  "orig_nbformat": 4,
  "vscode": {
   "interpreter": {
    "hash": "31f2aee4e71d21fbe5cf8b01ff0e069b9275f58929596ceb00d14d90e3e16cd6"
   }
  }
 },
 "nbformat": 4,
 "nbformat_minor": 2
}
